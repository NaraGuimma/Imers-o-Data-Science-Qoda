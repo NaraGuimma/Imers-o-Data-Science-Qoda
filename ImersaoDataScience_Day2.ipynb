{
  "nbformat": 4,
  "nbformat_minor": 0,
  "metadata": {
    "colab": {
      "name": "ImersaoDataScience-Day2.ipynb",
      "provenance": [],
      "collapsed_sections": [],
      "authorship_tag": "ABX9TyPGZgl2zkCJrRI4LjxVAu5k",
      "include_colab_link": true
    },
    "kernelspec": {
      "name": "python3",
      "display_name": "Python 3"
    }
  },
  "cells": [
    {
      "cell_type": "markdown",
      "metadata": {
        "id": "view-in-github",
        "colab_type": "text"
      },
      "source": [
        "<a href=\"https://colab.research.google.com/github/NaraGuimma/Imersao-Data-Science-Qoda/blob/main/ImersaoDataScience_Day2.ipynb\" target=\"_parent\"><img src=\"https://colab.research.google.com/assets/colab-badge.svg\" alt=\"Open In Colab\"/></a>"
      ]
    },
    {
      "cell_type": "markdown",
      "metadata": {
        "id": "e6LrDcYefsrG"
      },
      "source": [
        "PRINTING INFORMATION ON SCREEN\r\n",
        "\r\n"
      ]
    },
    {
      "cell_type": "code",
      "metadata": {
        "colab": {
          "base_uri": "https://localhost:8080/"
        },
        "id": "ZwZJJXy4KkKE",
        "outputId": "afba6022-39dc-4eeb-a10b-15196622f5fc"
      },
      "source": [
        "name = input(\"what's your name?\")\r\n",
        "print(f\"Hello {name}\")"
      ],
      "execution_count": 2,
      "outputs": [
        {
          "output_type": "stream",
          "text": [
            "what's your name?My name \n",
            "Hello My name \n"
          ],
          "name": "stdout"
        }
      ]
    },
    {
      "cell_type": "code",
      "metadata": {
        "colab": {
          "base_uri": "https://localhost:8080/"
        },
        "id": "HKHTDnExUwNA",
        "outputId": "5d3626ea-837e-46bd-8000-1d4648274abb"
      },
      "source": [
        "print(\"Hello world!\")"
      ],
      "execution_count": 4,
      "outputs": [
        {
          "output_type": "stream",
          "text": [
            "Hello world!\n",
            "Hello world!\n"
          ],
          "name": "stdout"
        }
      ]
    },
    {
      "cell_type": "code",
      "metadata": {
        "colab": {
          "base_uri": "https://localhost:8080/"
        },
        "id": "dO5rU3Y9VeCp",
        "outputId": "3d3c7b2a-c1ed-4cbb-a42a-c23ca0e1de7a"
      },
      "source": [
        "number = input(\"Type a number\")\r\n",
        "print(f\"You have typed the number {number}\")"
      ],
      "execution_count": 5,
      "outputs": [
        {
          "output_type": "stream",
          "text": [
            "Type a number15\n",
            "You have typed the number 15\n"
          ],
          "name": "stdout"
        }
      ]
    },
    {
      "cell_type": "code",
      "metadata": {
        "colab": {
          "base_uri": "https://localhost:8080/"
        },
        "id": "9vDiwVjmYCLK",
        "outputId": "fc2273de-5bbf-4ca8-8340-895a44911ff8"
      },
      "source": [
        "num1 = input(\"Type the first number - type integer \")\r\n",
        "num2 = input(\"Type the second number - type integer \")\r\n",
        "sum = int(num1) + int(num2)\r\n",
        "print(f\"The sum is {sum}\")"
      ],
      "execution_count": 7,
      "outputs": [
        {
          "output_type": "stream",
          "text": [
            "Type the first number - type integer1\n",
            "Type the second number - type integer2\n",
            "The sum is 3\n"
          ],
          "name": "stdout"
        }
      ]
    },
    {
      "cell_type": "code",
      "metadata": {
        "colab": {
          "base_uri": "https://localhost:8080/"
        },
        "id": "XDbYRaXeYgvc",
        "outputId": "3b4c9082-fbb7-48e0-ba47-eece3631b3af"
      },
      "source": [
        "grade1 = float(input(\"First grade \"))\r\n",
        "grade2 = float(input(\"Second grade \"))\r\n",
        "grade3 = float(input(\"Third grade \"))\r\n",
        "average = (grade1 + grade2 + grade3)/3\r\n",
        "print(f\"The average is {average}\")"
      ],
      "execution_count": 9,
      "outputs": [
        {
          "output_type": "stream",
          "text": [
            "First grade 5\n",
            "Second grade 6.5\n",
            "Third grade 8\n",
            "The average is 6.5\n"
          ],
          "name": "stdout"
        }
      ]
    },
    {
      "cell_type": "code",
      "metadata": {
        "colab": {
          "base_uri": "https://localhost:8080/"
        },
        "id": "dFwRhvPMZgch",
        "outputId": "72177e32-8fb2-495f-f03d-0f9ecf1cfdb1"
      },
      "source": [
        "print(\"Converting meters in centimeters\")\r\n",
        "m_value = float(input(\"Value in meters \"))\r\n",
        "cm_value = m_value*100\r\n",
        "print(f\"Value in centimeters {cm_value}\")"
      ],
      "execution_count": 10,
      "outputs": [
        {
          "output_type": "stream",
          "text": [
            "Converting meters in centimeters\n",
            "Value in meters 10\n",
            "Value in centimeters 1000.0\n"
          ],
          "name": "stdout"
        }
      ]
    },
    {
      "cell_type": "markdown",
      "metadata": {
        "id": "opnQYj-5fnH7"
      },
      "source": [
        "TYPES OF DATA"
      ]
    },
    {
      "cell_type": "code",
      "metadata": {
        "colab": {
          "base_uri": "https://localhost:8080/"
        },
        "id": "Kdq7BV6kad4D",
        "outputId": "02577a7c-e680-4f19-e8ed-9d0fbfbd2d20"
      },
      "source": [
        "boolean = True\r\n",
        "type(boolean)"
      ],
      "execution_count": 12,
      "outputs": [
        {
          "output_type": "execute_result",
          "data": {
            "text/plain": [
              "bool"
            ]
          },
          "metadata": {
            "tags": []
          },
          "execution_count": 12
        }
      ]
    },
    {
      "cell_type": "code",
      "metadata": {
        "colab": {
          "base_uri": "https://localhost:8080/"
        },
        "id": "X-SWMfHIb1lv",
        "outputId": "0606c291-c24d-4f76-bfed-55c870f0721e"
      },
      "source": [
        "integer = 2\r\n",
        "type(integer)"
      ],
      "execution_count": 13,
      "outputs": [
        {
          "output_type": "execute_result",
          "data": {
            "text/plain": [
              "int"
            ]
          },
          "metadata": {
            "tags": []
          },
          "execution_count": 13
        }
      ]
    },
    {
      "cell_type": "code",
      "metadata": {
        "colab": {
          "base_uri": "https://localhost:8080/"
        },
        "id": "1eGIsB37b9H2",
        "outputId": "a6c53e29-09b7-4eec-dd8e-e9246fd284ca"
      },
      "source": [
        "caracter = \"Hello World\"\r\n",
        "type(caracter)"
      ],
      "execution_count": 14,
      "outputs": [
        {
          "output_type": "execute_result",
          "data": {
            "text/plain": [
              "str"
            ]
          },
          "metadata": {
            "tags": []
          },
          "execution_count": 14
        }
      ]
    },
    {
      "cell_type": "code",
      "metadata": {
        "colab": {
          "base_uri": "https://localhost:8080/"
        },
        "id": "3DTMYfW_cLKb",
        "outputId": "7e5779f5-9cf9-4d52-86ad-edceb7f37cc6"
      },
      "source": [
        "real = 3.25\r\n",
        "type(real)"
      ],
      "execution_count": 15,
      "outputs": [
        {
          "output_type": "execute_result",
          "data": {
            "text/plain": [
              "float"
            ]
          },
          "metadata": {
            "tags": []
          },
          "execution_count": 15
        }
      ]
    },
    {
      "cell_type": "markdown",
      "metadata": {
        "id": "IZ-L0xbifkIY"
      },
      "source": [
        "LISTS"
      ]
    },
    {
      "cell_type": "code",
      "metadata": {
        "colab": {
          "base_uri": "https://localhost:8080/"
        },
        "id": "TVB_TgqScTcW",
        "outputId": "69096e79-fcaa-4e5e-c6b2-01c8ebc387b5"
      },
      "source": [
        "list = []\r\n",
        "list1 = [1, 3, 15, 6.8]\r\n",
        "dir(list1)"
      ],
      "execution_count": 18,
      "outputs": [
        {
          "output_type": "execute_result",
          "data": {
            "text/plain": [
              "['__add__',\n",
              " '__class__',\n",
              " '__contains__',\n",
              " '__delattr__',\n",
              " '__delitem__',\n",
              " '__dir__',\n",
              " '__doc__',\n",
              " '__eq__',\n",
              " '__format__',\n",
              " '__ge__',\n",
              " '__getattribute__',\n",
              " '__getitem__',\n",
              " '__gt__',\n",
              " '__hash__',\n",
              " '__iadd__',\n",
              " '__imul__',\n",
              " '__init__',\n",
              " '__init_subclass__',\n",
              " '__iter__',\n",
              " '__le__',\n",
              " '__len__',\n",
              " '__lt__',\n",
              " '__mul__',\n",
              " '__ne__',\n",
              " '__new__',\n",
              " '__reduce__',\n",
              " '__reduce_ex__',\n",
              " '__repr__',\n",
              " '__reversed__',\n",
              " '__rmul__',\n",
              " '__setattr__',\n",
              " '__setitem__',\n",
              " '__sizeof__',\n",
              " '__str__',\n",
              " '__subclasshook__',\n",
              " 'append',\n",
              " 'clear',\n",
              " 'copy',\n",
              " 'count',\n",
              " 'extend',\n",
              " 'index',\n",
              " 'insert',\n",
              " 'pop',\n",
              " 'remove',\n",
              " 'reverse',\n",
              " 'sort']"
            ]
          },
          "metadata": {
            "tags": []
          },
          "execution_count": 18
        }
      ]
    },
    {
      "cell_type": "code",
      "metadata": {
        "id": "EDlfIFRXdNEH"
      },
      "source": [
        "list1.sort()"
      ],
      "execution_count": 19,
      "outputs": []
    },
    {
      "cell_type": "code",
      "metadata": {
        "colab": {
          "base_uri": "https://localhost:8080/"
        },
        "id": "zNvff4k-dWhF",
        "outputId": "577512b3-cdf4-47ee-9653-638cda03aae9"
      },
      "source": [
        "list1"
      ],
      "execution_count": 20,
      "outputs": [
        {
          "output_type": "execute_result",
          "data": {
            "text/plain": [
              "[1, 3, 6.8, 15]"
            ]
          },
          "metadata": {
            "tags": []
          },
          "execution_count": 20
        }
      ]
    },
    {
      "cell_type": "markdown",
      "metadata": {
        "id": "hZJp8ibNfhZ5"
      },
      "source": [
        "TUPLES"
      ]
    },
    {
      "cell_type": "code",
      "metadata": {
        "colab": {
          "base_uri": "https://localhost:8080/"
        },
        "id": "S1k8Ii1hdhHe",
        "outputId": "fc9ed951-06df-4a50-f367-0e2aba198753"
      },
      "source": [
        "tup = (1, 2, 3)\r\n",
        "dir(tup)\r\n",
        "tup.count(4)"
      ],
      "execution_count": 23,
      "outputs": [
        {
          "output_type": "execute_result",
          "data": {
            "text/plain": [
              "0"
            ]
          },
          "metadata": {
            "tags": []
          },
          "execution_count": 23
        }
      ]
    },
    {
      "cell_type": "markdown",
      "metadata": {
        "id": "saa4OcqBffci"
      },
      "source": [
        "SETS"
      ]
    },
    {
      "cell_type": "code",
      "metadata": {
        "colab": {
          "base_uri": "https://localhost:8080/"
        },
        "id": "yduib395dxbs",
        "outputId": "c051c46a-8c5c-4181-d9dd-136650360af8"
      },
      "source": [
        "set1 = ({1, 2, 3})\r\n",
        "set2 = ([1, 2, 3])\r\n",
        "set1.pop()\r\n",
        "set1"
      ],
      "execution_count": 25,
      "outputs": [
        {
          "output_type": "execute_result",
          "data": {
            "text/plain": [
              "{2, 3}"
            ]
          },
          "metadata": {
            "tags": []
          },
          "execution_count": 25
        }
      ]
    },
    {
      "cell_type": "markdown",
      "metadata": {
        "id": "2ddjfHmr34Rk"
      },
      "source": [
        "DICTIONARIES"
      ]
    },
    {
      "cell_type": "code",
      "metadata": {
        "colab": {
          "base_uri": "https://localhost:8080/"
        },
        "id": "5PS5F7nSeoTq",
        "outputId": "6d3caed9-fe52-495c-b523-899a8a83fcae"
      },
      "source": [
        "people = {\r\n",
        "    \"name\": \"Name\", \r\n",
        "    \"age\": 20, \r\n",
        "    \"skills\":[\"pyhton\", \"javascript\", \"java\"]\r\n",
        "}\r\n",
        "people"
      ],
      "execution_count": 1,
      "outputs": [
        {
          "output_type": "execute_result",
          "data": {
            "text/plain": [
              "{'age': 20, 'name': 'Name', 'skills': ['pyhton', 'javascript', 'java']}"
            ]
          },
          "metadata": {
            "tags": []
          },
          "execution_count": 1
        }
      ]
    },
    {
      "cell_type": "code",
      "metadata": {
        "colab": {
          "base_uri": "https://localhost:8080/"
        },
        "id": "P_SFnlNn8OuC",
        "outputId": "ccb5f10d-340d-499d-fec0-90d885a4d265"
      },
      "source": [
        "people.values()"
      ],
      "execution_count": 3,
      "outputs": [
        {
          "output_type": "execute_result",
          "data": {
            "text/plain": [
              "dict_values(['Name', 20, ['pyhton', 'javascript', 'java']])"
            ]
          },
          "metadata": {
            "tags": []
          },
          "execution_count": 3
        }
      ]
    },
    {
      "cell_type": "code",
      "metadata": {
        "colab": {
          "base_uri": "https://localhost:8080/",
          "height": 35
        },
        "id": "QKtfwtdh8Tul",
        "outputId": "1003761e-76dd-4925-bcf7-55e23e977a47"
      },
      "source": [
        "people['name']"
      ],
      "execution_count": 7,
      "outputs": [
        {
          "output_type": "execute_result",
          "data": {
            "application/vnd.google.colaboratory.intrinsic+json": {
              "type": "string"
            },
            "text/plain": [
              "'Name'"
            ]
          },
          "metadata": {
            "tags": []
          },
          "execution_count": 7
        }
      ]
    },
    {
      "cell_type": "code",
      "metadata": {
        "colab": {
          "base_uri": "https://localhost:8080/"
        },
        "id": "7EQZoIDw8gFq",
        "outputId": "0343316d-6060-4ad0-bb94-f26f392617d8"
      },
      "source": [
        "people['skills']"
      ],
      "execution_count": 8,
      "outputs": [
        {
          "output_type": "execute_result",
          "data": {
            "text/plain": [
              "['pyhton', 'javascript', 'java']"
            ]
          },
          "metadata": {
            "tags": []
          },
          "execution_count": 8
        }
      ]
    },
    {
      "cell_type": "code",
      "metadata": {
        "colab": {
          "base_uri": "https://localhost:8080/",
          "height": 35
        },
        "id": "mQwYXqsa9H5m",
        "outputId": "242a4e64-d69a-463f-bba3-7745f88ddd43"
      },
      "source": [
        "people['skills'][0]"
      ],
      "execution_count": 10,
      "outputs": [
        {
          "output_type": "execute_result",
          "data": {
            "application/vnd.google.colaboratory.intrinsic+json": {
              "type": "string"
            },
            "text/plain": [
              "'pyhton'"
            ]
          },
          "metadata": {
            "tags": []
          },
          "execution_count": 10
        }
      ]
    },
    {
      "cell_type": "markdown",
      "metadata": {
        "id": "e9YZFWtT9u2u"
      },
      "source": [
        "CONDITIONALS"
      ]
    },
    {
      "cell_type": "code",
      "metadata": {
        "colab": {
          "base_uri": "https://localhost:8080/"
        },
        "id": "T3MpHKx49L_0",
        "outputId": "5fd8ba93-a9ef-420a-f8c8-8a29da56f8d5"
      },
      "source": [
        "num = int(input(\"Type a number\"))\r\n",
        "if (num % 2 == 0):\r\n",
        "  print(f\"{num} is even\")\r\n",
        "else:\r\n",
        "  print(f\"{num} is odd\")"
      ],
      "execution_count": 12,
      "outputs": [
        {
          "output_type": "stream",
          "text": [
            "Type a number586\n",
            "586 is even\n"
          ],
          "name": "stdout"
        }
      ]
    },
    {
      "cell_type": "code",
      "metadata": {
        "colab": {
          "base_uri": "https://localhost:8080/"
        },
        "id": "YdPQYJ3c-Ol4",
        "outputId": "9f3f7bf6-49dd-4bfb-f3c9-f7d01965b89c"
      },
      "source": [
        "num1 = int(input(\"First number \"))\r\n",
        "num2 = int(input(\"Second number \"))\r\n",
        "if (num1 > num2):\r\n",
        "  print(f\"{num1} is bigger than {num2}\")\r\n",
        "else:\r\n",
        "  print(f\"{num2} is bigger than {num1}\")"
      ],
      "execution_count": 13,
      "outputs": [
        {
          "output_type": "stream",
          "text": [
            "First number 15\n",
            "Second number 12\n",
            "15 is bigger than 12\n"
          ],
          "name": "stdout"
        }
      ]
    },
    {
      "cell_type": "code",
      "metadata": {
        "colab": {
          "base_uri": "https://localhost:8080/"
        },
        "id": "tELXhtjL_G36",
        "outputId": "b0cbc76a-3093-4275-9a9e-85882fac2983"
      },
      "source": [
        "num = float(input(\"Type a number \"))\r\n",
        "if (num > 0):\r\n",
        "  print(f\"{num} is positive\")\r\n",
        "elif (num < 0):\r\n",
        "  print(f\"{num} is negative\")\r\n",
        "else:\r\n",
        "  print(f\"{num} is null\")"
      ],
      "execution_count": 14,
      "outputs": [
        {
          "output_type": "stream",
          "text": [
            "Type a number -1555\n",
            "-1555.0 is negative\n"
          ],
          "name": "stdout"
        }
      ]
    },
    {
      "cell_type": "code",
      "metadata": {
        "colab": {
          "base_uri": "https://localhost:8080/"
        },
        "id": "ws5QuXXL_fib",
        "outputId": "22b7299e-38c0-4e48-c73c-f323e0628f7c"
      },
      "source": [
        "gender = input(\"Type your gender F for female and M for male \")\r\n",
        "if (gender == \"F\" or gender == \"f\"):\r\n",
        "  print(\"Welcome Miss\")\r\n",
        "elif (gender == \"M\" or gender == \"m\"):\r\n",
        "  print(\"Welcome Mr\")\r\n",
        "else:\r\n",
        "  print(\"Welcome\")"
      ],
      "execution_count": 16,
      "outputs": [
        {
          "output_type": "stream",
          "text": [
            "Type your gender F for female and M for male f\n",
            "Welcome Miss\n"
          ],
          "name": "stdout"
        }
      ]
    },
    {
      "cell_type": "code",
      "metadata": {
        "colab": {
          "base_uri": "https://localhost:8080/"
        },
        "id": "dR7am7wlG82q",
        "outputId": "10308339-5d03-4718-d697-9d829e250a4a"
      },
      "source": [
        "import re\r\n",
        "\r\n",
        "input_str = input(\"Type a letter: \")\r\n",
        "if not re.match(\"^[a-zA-Z]\", input_str):\r\n",
        "    print (\"Error! Only letters a-z allowed!\")\r\n",
        "elif len(input_str) > 1:\r\n",
        "    print (\"Error! Only 1 character allowed!\")\r\n",
        "else:\r\n",
        "  if (input_str in [\"a\", \"A\", \"e\", \"E\", \"i\", \"I\", \"o\", \"O\",\"u\", \"U\"]):\r\n",
        "    print(f\"{input_str} is a vowel\")\r\n",
        "  else:\r\n",
        "    print(f\"{input_str} is a consonant\")\r\n",
        "\r\n",
        "print (\"Your input was:\", input_str)"
      ],
      "execution_count": 26,
      "outputs": [
        {
          "output_type": "stream",
          "text": [
            "Type a letter: A\n",
            "A is a vowel\n",
            "Your input was: A\n"
          ],
          "name": "stdout"
        }
      ]
    },
    {
      "cell_type": "code",
      "metadata": {
        "colab": {
          "base_uri": "https://localhost:8080/"
        },
        "id": "-ZrMJwUwKYWq",
        "outputId": "f6cc57a9-8a83-4bb4-84f6-2cdf088198b5"
      },
      "source": [
        "grade1 = float(input(\"First grade: \"))\r\n",
        "grade2 = float(input(\"Second grade: \"))\r\n",
        "med = (grade1 + grade2)/2\r\n",
        "if(med == 10):\r\n",
        "  print(\"You passed with honor\")\r\n",
        "elif (med >= 7):\r\n",
        "  print(\"You passed\")\r\n",
        "else:\r\n",
        "  print(\"You failed\")"
      ],
      "execution_count": 28,
      "outputs": [
        {
          "output_type": "stream",
          "text": [
            "First grade: 10\n",
            "Second grade: 10\n",
            "You passed with honor\n"
          ],
          "name": "stdout"
        }
      ]
    },
    {
      "cell_type": "markdown",
      "metadata": {
        "id": "JDVvIi3CRdb0"
      },
      "source": [
        "REPETITION STATEMENTS"
      ]
    },
    {
      "cell_type": "code",
      "metadata": {
        "colab": {
          "base_uri": "https://localhost:8080/"
        },
        "id": "NQ57N66YR8No",
        "outputId": "5d00ac94-c03c-40d8-811a-b7708dac7501"
      },
      "source": [
        "for x in range(3):\r\n",
        "  print(x)"
      ],
      "execution_count": 5,
      "outputs": [
        {
          "output_type": "stream",
          "text": [
            "0\n",
            "1\n",
            "2\n"
          ],
          "name": "stdout"
        }
      ]
    },
    {
      "cell_type": "code",
      "metadata": {
        "colab": {
          "base_uri": "https://localhost:8080/"
        },
        "id": "19EtYaA6RQxS",
        "outputId": "131b1448-a82e-4e55-ea4f-8fafb99e40ad"
      },
      "source": [
        "# range (start, stop not include, step)\r\n",
        "for x in range(0,18,3):\r\n",
        "  print(x)\r\n"
      ],
      "execution_count": 1,
      "outputs": [
        {
          "output_type": "stream",
          "text": [
            "0\n",
            "3\n",
            "6\n",
            "9\n",
            "12\n",
            "15\n"
          ],
          "name": "stdout"
        }
      ]
    },
    {
      "cell_type": "code",
      "metadata": {
        "colab": {
          "base_uri": "https://localhost:8080/"
        },
        "id": "DF8v2R1CR2Us",
        "outputId": "7c0db069-4a5b-4540-aacb-1c90d96496e5"
      },
      "source": [
        "word = \"WORD\"\r\n",
        "for letter in word:\r\n",
        "  print(letter)"
      ],
      "execution_count": 6,
      "outputs": [
        {
          "output_type": "stream",
          "text": [
            "W\n",
            "O\n",
            "R\n",
            "D\n"
          ],
          "name": "stdout"
        }
      ]
    },
    {
      "cell_type": "code",
      "metadata": {
        "colab": {
          "base_uri": "https://localhost:8080/"
        },
        "id": "WaQoGLuOSg3S",
        "outputId": "aafa6212-0910-47aa-9183-dbb25655b3a3"
      },
      "source": [
        "n = 0\r\n",
        "while (n<15):\r\n",
        "  print(n)\r\n",
        "  n = n+3"
      ],
      "execution_count": 7,
      "outputs": [
        {
          "output_type": "stream",
          "text": [
            "0\n",
            "3\n",
            "6\n",
            "9\n",
            "12\n"
          ],
          "name": "stdout"
        }
      ]
    },
    {
      "cell_type": "code",
      "metadata": {
        "colab": {
          "base_uri": "https://localhost:8080/"
        },
        "id": "Zwoni4qNTFME",
        "outputId": "79eef094-3e1e-4942-eaf5-c0cd6c1be207"
      },
      "source": [
        "value = True\r\n",
        "while value:\r\n",
        "  num = float(input(\"Entre a number between 0 and 10: \"))\r\n",
        "  if (num >= 0 and num <= 10):\r\n",
        "    print(\"Valid number\")\r\n",
        "    value = False\r\n",
        "  else:\r\n",
        "    print(\"Invalid number\")"
      ],
      "execution_count": 9,
      "outputs": [
        {
          "output_type": "stream",
          "text": [
            "Entre a number between 0 and 10: 15\n",
            "Invalid number\n",
            "Entre a number between 0 and 10: -3\n",
            "Invalid number\n",
            "Entre a number between 0 and 10: 5\n",
            "Valid number\n"
          ],
          "name": "stdout"
        }
      ]
    },
    {
      "cell_type": "code",
      "metadata": {
        "colab": {
          "base_uri": "https://localhost:8080/"
        },
        "id": "wkjOM5oQT4af",
        "outputId": "ac0a71c2-51ad-44a2-88f5-07651c016127"
      },
      "source": [
        "value = True\r\n",
        "while value:\r\n",
        "  name = input(\"Type your name: \")\r\n",
        "  password = input(\"Enter your password: \")\r\n",
        "  if (name == password):\r\n",
        "    print(\"Type a password different than your name\")\r\n",
        "  else:\r\n",
        "    print(\"Valid password\")\r\n",
        "    value = False\r\n"
      ],
      "execution_count": 11,
      "outputs": [
        {
          "output_type": "stream",
          "text": [
            "Type your name: nome\n",
            "Enter your password: nome\n",
            "Type a password different than your name\n",
            "Type your name: name\n",
            "Enter your password: nome \n",
            "Valid password\n"
          ],
          "name": "stdout"
        }
      ]
    },
    {
      "cell_type": "code",
      "metadata": {
        "colab": {
          "base_uri": "https://localhost:8080/",
          "height": 35
        },
        "id": "TQJYEzlrX6S8",
        "outputId": "cabc90c9-398e-4c36-c2fb-732f3848eb43"
      },
      "source": [
        "var = \"TYPE\"\r\n",
        "var.lower()"
      ],
      "execution_count": 13,
      "outputs": [
        {
          "output_type": "execute_result",
          "data": {
            "application/vnd.google.colaboratory.intrinsic+json": {
              "type": "string"
            },
            "text/plain": [
              "'type'"
            ]
          },
          "metadata": {
            "tags": []
          },
          "execution_count": 13
        }
      ]
    },
    {
      "cell_type": "code",
      "metadata": {
        "colab": {
          "base_uri": "https://localhost:8080/"
        },
        "id": "eV1jIYHFU_VD",
        "outputId": "d74e812c-5b31-4b58-c5a0-0af5e93d6814"
      },
      "source": [
        "val = True\r\n",
        "while val:\r\n",
        "  name = input(\"Tyoe your name: \")\r\n",
        "  age = int(input(\"Type your age: \"))\r\n",
        "  gender = input(\"Type your gender: \")\r\n",
        "  status = input(\"Type your marital status: \")\r\n",
        "\r\n",
        "  if (len(name) >= 3 and age >= 0 and age <= 150 and (gender.lower() in [\"m\", \"f\"]) and (status in [\"s\", \"m\", \"w\", \"d\"])):\r\n",
        "    print(\"Valid information\")\r\n",
        "    val = False\r\n",
        "  else: \r\n",
        "    print(\"Not a valid information\")"
      ],
      "execution_count": 18,
      "outputs": [
        {
          "output_type": "stream",
          "text": [
            "Tyoe your name: a\n",
            "Type your age: 100\n",
            "Type your gender: f\n",
            "Type your marital status: v\n",
            "Not a valid information\n",
            "Tyoe your name: name\n",
            "Type your age: 100\n",
            "Type your gender: f\n",
            "Type your marital status: m\n",
            "Valid information\n"
          ],
          "name": "stdout"
        }
      ]
    },
    {
      "cell_type": "code",
      "metadata": {
        "colab": {
          "base_uri": "https://localhost:8080/"
        },
        "id": "lvZH9SldYVyA",
        "outputId": "f1018c9b-d15f-4eec-f3cc-153cc503a701"
      },
      "source": [
        "years = 0\r\n",
        "cA = 80000\r\n",
        "cB = 200000\r\n",
        "while (cA != cB):\r\n",
        "  cA = cA + cA*0.03\r\n",
        "  cB = cB + cB*0.015\r\n",
        "  years += 1\r\n",
        "print(years)"
      ],
      "execution_count": 19,
      "outputs": [
        {
          "output_type": "stream",
          "text": [
            "46854\n"
          ],
          "name": "stdout"
        }
      ]
    },
    {
      "cell_type": "code",
      "metadata": {
        "colab": {
          "base_uri": "https://localhost:8080/"
        },
        "id": "kaTT1-ikZ5G1",
        "outputId": "5d96ee9b-7021-4669-cee5-438bacf34dbd"
      },
      "source": [
        "years = 0\r\n",
        "cA = int(input(\"Population on country A: \"))\r\n",
        "rateA = float(input(\"Rate in % of population increase in country A: \"))\r\n",
        "cB = int(input(\"Population on country B: \"))\r\n",
        "rateB = float(input(\"Rate in % of population increase in country B: \"))\r\n",
        "validation = True\r\n",
        "while validation:\r\n",
        "  cA = cA + cA*(rateA/100)\r\n",
        "  cB = cB + cB*(rateB/100)\r\n",
        "  years += 1\r\n",
        "  if (cA == cB):\r\n",
        "    print(f\"It took {years} for the two countrs have the same population\")\r\n",
        "    runAgain = input(\"Do you want to continue? Yes or No \")\r\n",
        "    if (runAgain == \"Yes\" or runAgain == \"yes\"):\r\n",
        "      years = 0\r\n",
        "      cA = int(input(\"Population on country A: \"))\r\n",
        "      rateA = float(input(\"Rate in % of population increase in country A: \"))\r\n",
        "      cB = int(input(\"Population on country B: \"))\r\n",
        "      rateB = float(input(\"Rate in % of population increase in country B: \"))\r\n",
        "    else: \r\n",
        "      validation = False\r\n",
        "\r\n"
      ],
      "execution_count": 26,
      "outputs": [
        {
          "output_type": "stream",
          "text": [
            "Population on country A: 80000\n",
            "Rate in % of population increase in country A: 3\n",
            "Population on country B: 200000\n",
            "Rate in % of population increase in country B: 1.5\n",
            "It took 46854 for the two countrs have the same population\n",
            "Do you want to continue? Yes or No Yes\n",
            "Population on country A: 80000\n",
            "Rate in % of population increase in country A: 3\n",
            "Population on country B: 200000\n",
            "Rate in % of population increase in country B: 1.5\n",
            "It took 46854 for the two countrs have the same population\n",
            "Do you want to continue? Yes or No No\n"
          ],
          "name": "stdout"
        }
      ]
    },
    {
      "cell_type": "markdown",
      "metadata": {
        "id": "nZnHd-Q9fjCw"
      },
      "source": [
        "FUNCTIONS"
      ]
    },
    {
      "cell_type": "code",
      "metadata": {
        "colab": {
          "base_uri": "https://localhost:8080/"
        },
        "id": "bWDor-bRbrNb",
        "outputId": "66185f41-c367-4367-c3e9-5a0fb7b15ff6"
      },
      "source": [
        "def SquareValue(x, y):\r\n",
        "  return (x**y)\r\n",
        "SquareValue(2,3)"
      ],
      "execution_count": 27,
      "outputs": [
        {
          "output_type": "execute_result",
          "data": {
            "text/plain": [
              "8"
            ]
          },
          "metadata": {
            "tags": []
          },
          "execution_count": 27
        }
      ]
    },
    {
      "cell_type": "code",
      "metadata": {
        "colab": {
          "base_uri": "https://localhost:8080/"
        },
        "id": "dZlF-Cmef2PM",
        "outputId": "9312c031-2351-497d-f837-6b3d200683bb"
      },
      "source": [
        "def Sum(v1, v2, v3):\r\n",
        "  return (v1 + v2 + v3)\r\n",
        "v1 = float(input(\"Input number 1: \"))\r\n",
        "v2 = float(input(\"Input number 2: \"))\r\n",
        "v3 = float(input(\"Input number 3: \"))\r\n",
        "Sum(v1, v2, v3)"
      ],
      "execution_count": 29,
      "outputs": [
        {
          "output_type": "stream",
          "text": [
            "Input number 1: 2\n",
            "Input number 2: 3.5\n",
            "Input number 3: 8\n"
          ],
          "name": "stdout"
        },
        {
          "output_type": "execute_result",
          "data": {
            "text/plain": [
              "13.5"
            ]
          },
          "metadata": {
            "tags": []
          },
          "execution_count": 29
        }
      ]
    },
    {
      "cell_type": "code",
      "metadata": {
        "colab": {
          "base_uri": "https://localhost:8080/"
        },
        "id": "mYuqV7eigo3n",
        "outputId": "afdf41c0-206d-494e-9b06-51470b60d532"
      },
      "source": [
        "def numType(number):\r\n",
        "  if (num > 0):\r\n",
        "    return (\"P\")\r\n",
        "  else:\r\n",
        "    return (\"N\")\r\n",
        "\r\n",
        "num = float(input(\"Type a number\"))\r\n",
        "print(numType(num))"
      ],
      "execution_count": 30,
      "outputs": [
        {
          "output_type": "stream",
          "text": [
            "Type a number50\n",
            "P\n"
          ],
          "name": "stdout"
        }
      ]
    },
    {
      "cell_type": "code",
      "metadata": {
        "colab": {
          "base_uri": "https://localhost:8080/"
        },
        "id": "fOU5vp_vzrda",
        "outputId": "d3d4f73a-413a-4ed5-e7e7-c0e73170de2e"
      },
      "source": [
        "def somaImposto(taxaImposto, custo):\r\n",
        "  return (custo + custo * (taxaImposto/100))\r\n",
        "tax = float(input(\"Tax value (%): \"))\r\n",
        "cost = float(input(\"Product cost without any tax ($): \"))\r\n",
        "print(f\"The real cost is {somaImposto(tax, cost)}\")"
      ],
      "execution_count": 32,
      "outputs": [
        {
          "output_type": "stream",
          "text": [
            "Tax value (%): 15\n",
            "Product cost without any tax ($): 25\n",
            "The real cost is 28.75\n"
          ],
          "name": "stdout"
        }
      ]
    },
    {
      "cell_type": "markdown",
      "metadata": {
        "id": "OAOIPsKl0oGY"
      },
      "source": [
        "ANALYTICS PROJECT"
      ]
    },
    {
      "cell_type": "code",
      "metadata": {
        "id": "eP0_9nff0aed"
      },
      "source": [
        "#pip install sklearn\r\n",
        "from sklearn import datasets \r\n",
        "iris = datasets.load_iris()\r\n",
        "#http://scikit-learn.org/stable/modules/generated/sklearn.datasets.load_iris.html"
      ],
      "execution_count": 2,
      "outputs": []
    },
    {
      "cell_type": "code",
      "metadata": {
        "colab": {
          "base_uri": "https://localhost:8080/"
        },
        "id": "IwxchqhI2Vns",
        "outputId": "6e3ea37e-9655-4216-c708-66f5de46fc5a"
      },
      "source": [
        "help(datasets.load_iris)"
      ],
      "execution_count": 3,
      "outputs": [
        {
          "output_type": "stream",
          "text": [
            "Help on function load_iris in module sklearn.datasets._base:\n",
            "\n",
            "load_iris(return_X_y=False)\n",
            "    Load and return the iris dataset (classification).\n",
            "    \n",
            "    The iris dataset is a classic and very easy multi-class classification\n",
            "    dataset.\n",
            "    \n",
            "    =================   ==============\n",
            "    Classes                          3\n",
            "    Samples per class               50\n",
            "    Samples total                  150\n",
            "    Dimensionality                   4\n",
            "    Features            real, positive\n",
            "    =================   ==============\n",
            "    \n",
            "    Read more in the :ref:`User Guide <iris_dataset>`.\n",
            "    \n",
            "    Parameters\n",
            "    ----------\n",
            "    return_X_y : boolean, default=False.\n",
            "        If True, returns ``(data, target)`` instead of a Bunch object. See\n",
            "        below for more information about the `data` and `target` object.\n",
            "    \n",
            "        .. versionadded:: 0.18\n",
            "    \n",
            "    Returns\n",
            "    -------\n",
            "    data : Bunch\n",
            "        Dictionary-like object, the interesting attributes are:\n",
            "        'data', the data to learn, 'target', the classification labels,\n",
            "        'target_names', the meaning of the labels, 'feature_names', the\n",
            "        meaning of the features, 'DESCR', the full description of\n",
            "        the dataset, 'filename', the physical location of\n",
            "        iris csv dataset (added in version `0.20`).\n",
            "    \n",
            "    (data, target) : tuple if ``return_X_y`` is True\n",
            "    \n",
            "        .. versionadded:: 0.18\n",
            "    \n",
            "    Notes\n",
            "    -----\n",
            "        .. versionchanged:: 0.20\n",
            "            Fixed two wrong data points according to Fisher's paper.\n",
            "            The new version is the same as in R, but not as in the UCI\n",
            "            Machine Learning Repository.\n",
            "    \n",
            "    Examples\n",
            "    --------\n",
            "    Let's say you are interested in the samples 10, 25, and 50, and want to\n",
            "    know their class name.\n",
            "    \n",
            "    >>> from sklearn.datasets import load_iris\n",
            "    >>> data = load_iris()\n",
            "    >>> data.target[[10, 25, 50]]\n",
            "    array([0, 0, 1])\n",
            "    >>> list(data.target_names)\n",
            "    ['setosa', 'versicolor', 'virginica']\n",
            "\n"
          ],
          "name": "stdout"
        }
      ]
    },
    {
      "cell_type": "code",
      "metadata": {
        "colab": {
          "base_uri": "https://localhost:8080/"
        },
        "id": "pwUBKDHl2ch-",
        "outputId": "7b5fcd00-2112-42b4-b9b9-267fc00dfe3f"
      },
      "source": [
        "#PREPROCESSING\r\n",
        "iris.feature_names"
      ],
      "execution_count": 4,
      "outputs": [
        {
          "output_type": "execute_result",
          "data": {
            "text/plain": [
              "['sepal length (cm)',\n",
              " 'sepal width (cm)',\n",
              " 'petal length (cm)',\n",
              " 'petal width (cm)']"
            ]
          },
          "metadata": {
            "tags": []
          },
          "execution_count": 4
        }
      ]
    },
    {
      "cell_type": "code",
      "metadata": {
        "colab": {
          "base_uri": "https://localhost:8080/"
        },
        "id": "mkxnmK0L2rbN",
        "outputId": "a1964bb3-a332-4a53-a2f6-35ac2bfde132"
      },
      "source": [
        "iris.data"
      ],
      "execution_count": 5,
      "outputs": [
        {
          "output_type": "execute_result",
          "data": {
            "text/plain": [
              "array([[5.1, 3.5, 1.4, 0.2],\n",
              "       [4.9, 3. , 1.4, 0.2],\n",
              "       [4.7, 3.2, 1.3, 0.2],\n",
              "       [4.6, 3.1, 1.5, 0.2],\n",
              "       [5. , 3.6, 1.4, 0.2],\n",
              "       [5.4, 3.9, 1.7, 0.4],\n",
              "       [4.6, 3.4, 1.4, 0.3],\n",
              "       [5. , 3.4, 1.5, 0.2],\n",
              "       [4.4, 2.9, 1.4, 0.2],\n",
              "       [4.9, 3.1, 1.5, 0.1],\n",
              "       [5.4, 3.7, 1.5, 0.2],\n",
              "       [4.8, 3.4, 1.6, 0.2],\n",
              "       [4.8, 3. , 1.4, 0.1],\n",
              "       [4.3, 3. , 1.1, 0.1],\n",
              "       [5.8, 4. , 1.2, 0.2],\n",
              "       [5.7, 4.4, 1.5, 0.4],\n",
              "       [5.4, 3.9, 1.3, 0.4],\n",
              "       [5.1, 3.5, 1.4, 0.3],\n",
              "       [5.7, 3.8, 1.7, 0.3],\n",
              "       [5.1, 3.8, 1.5, 0.3],\n",
              "       [5.4, 3.4, 1.7, 0.2],\n",
              "       [5.1, 3.7, 1.5, 0.4],\n",
              "       [4.6, 3.6, 1. , 0.2],\n",
              "       [5.1, 3.3, 1.7, 0.5],\n",
              "       [4.8, 3.4, 1.9, 0.2],\n",
              "       [5. , 3. , 1.6, 0.2],\n",
              "       [5. , 3.4, 1.6, 0.4],\n",
              "       [5.2, 3.5, 1.5, 0.2],\n",
              "       [5.2, 3.4, 1.4, 0.2],\n",
              "       [4.7, 3.2, 1.6, 0.2],\n",
              "       [4.8, 3.1, 1.6, 0.2],\n",
              "       [5.4, 3.4, 1.5, 0.4],\n",
              "       [5.2, 4.1, 1.5, 0.1],\n",
              "       [5.5, 4.2, 1.4, 0.2],\n",
              "       [4.9, 3.1, 1.5, 0.2],\n",
              "       [5. , 3.2, 1.2, 0.2],\n",
              "       [5.5, 3.5, 1.3, 0.2],\n",
              "       [4.9, 3.6, 1.4, 0.1],\n",
              "       [4.4, 3. , 1.3, 0.2],\n",
              "       [5.1, 3.4, 1.5, 0.2],\n",
              "       [5. , 3.5, 1.3, 0.3],\n",
              "       [4.5, 2.3, 1.3, 0.3],\n",
              "       [4.4, 3.2, 1.3, 0.2],\n",
              "       [5. , 3.5, 1.6, 0.6],\n",
              "       [5.1, 3.8, 1.9, 0.4],\n",
              "       [4.8, 3. , 1.4, 0.3],\n",
              "       [5.1, 3.8, 1.6, 0.2],\n",
              "       [4.6, 3.2, 1.4, 0.2],\n",
              "       [5.3, 3.7, 1.5, 0.2],\n",
              "       [5. , 3.3, 1.4, 0.2],\n",
              "       [7. , 3.2, 4.7, 1.4],\n",
              "       [6.4, 3.2, 4.5, 1.5],\n",
              "       [6.9, 3.1, 4.9, 1.5],\n",
              "       [5.5, 2.3, 4. , 1.3],\n",
              "       [6.5, 2.8, 4.6, 1.5],\n",
              "       [5.7, 2.8, 4.5, 1.3],\n",
              "       [6.3, 3.3, 4.7, 1.6],\n",
              "       [4.9, 2.4, 3.3, 1. ],\n",
              "       [6.6, 2.9, 4.6, 1.3],\n",
              "       [5.2, 2.7, 3.9, 1.4],\n",
              "       [5. , 2. , 3.5, 1. ],\n",
              "       [5.9, 3. , 4.2, 1.5],\n",
              "       [6. , 2.2, 4. , 1. ],\n",
              "       [6.1, 2.9, 4.7, 1.4],\n",
              "       [5.6, 2.9, 3.6, 1.3],\n",
              "       [6.7, 3.1, 4.4, 1.4],\n",
              "       [5.6, 3. , 4.5, 1.5],\n",
              "       [5.8, 2.7, 4.1, 1. ],\n",
              "       [6.2, 2.2, 4.5, 1.5],\n",
              "       [5.6, 2.5, 3.9, 1.1],\n",
              "       [5.9, 3.2, 4.8, 1.8],\n",
              "       [6.1, 2.8, 4. , 1.3],\n",
              "       [6.3, 2.5, 4.9, 1.5],\n",
              "       [6.1, 2.8, 4.7, 1.2],\n",
              "       [6.4, 2.9, 4.3, 1.3],\n",
              "       [6.6, 3. , 4.4, 1.4],\n",
              "       [6.8, 2.8, 4.8, 1.4],\n",
              "       [6.7, 3. , 5. , 1.7],\n",
              "       [6. , 2.9, 4.5, 1.5],\n",
              "       [5.7, 2.6, 3.5, 1. ],\n",
              "       [5.5, 2.4, 3.8, 1.1],\n",
              "       [5.5, 2.4, 3.7, 1. ],\n",
              "       [5.8, 2.7, 3.9, 1.2],\n",
              "       [6. , 2.7, 5.1, 1.6],\n",
              "       [5.4, 3. , 4.5, 1.5],\n",
              "       [6. , 3.4, 4.5, 1.6],\n",
              "       [6.7, 3.1, 4.7, 1.5],\n",
              "       [6.3, 2.3, 4.4, 1.3],\n",
              "       [5.6, 3. , 4.1, 1.3],\n",
              "       [5.5, 2.5, 4. , 1.3],\n",
              "       [5.5, 2.6, 4.4, 1.2],\n",
              "       [6.1, 3. , 4.6, 1.4],\n",
              "       [5.8, 2.6, 4. , 1.2],\n",
              "       [5. , 2.3, 3.3, 1. ],\n",
              "       [5.6, 2.7, 4.2, 1.3],\n",
              "       [5.7, 3. , 4.2, 1.2],\n",
              "       [5.7, 2.9, 4.2, 1.3],\n",
              "       [6.2, 2.9, 4.3, 1.3],\n",
              "       [5.1, 2.5, 3. , 1.1],\n",
              "       [5.7, 2.8, 4.1, 1.3],\n",
              "       [6.3, 3.3, 6. , 2.5],\n",
              "       [5.8, 2.7, 5.1, 1.9],\n",
              "       [7.1, 3. , 5.9, 2.1],\n",
              "       [6.3, 2.9, 5.6, 1.8],\n",
              "       [6.5, 3. , 5.8, 2.2],\n",
              "       [7.6, 3. , 6.6, 2.1],\n",
              "       [4.9, 2.5, 4.5, 1.7],\n",
              "       [7.3, 2.9, 6.3, 1.8],\n",
              "       [6.7, 2.5, 5.8, 1.8],\n",
              "       [7.2, 3.6, 6.1, 2.5],\n",
              "       [6.5, 3.2, 5.1, 2. ],\n",
              "       [6.4, 2.7, 5.3, 1.9],\n",
              "       [6.8, 3. , 5.5, 2.1],\n",
              "       [5.7, 2.5, 5. , 2. ],\n",
              "       [5.8, 2.8, 5.1, 2.4],\n",
              "       [6.4, 3.2, 5.3, 2.3],\n",
              "       [6.5, 3. , 5.5, 1.8],\n",
              "       [7.7, 3.8, 6.7, 2.2],\n",
              "       [7.7, 2.6, 6.9, 2.3],\n",
              "       [6. , 2.2, 5. , 1.5],\n",
              "       [6.9, 3.2, 5.7, 2.3],\n",
              "       [5.6, 2.8, 4.9, 2. ],\n",
              "       [7.7, 2.8, 6.7, 2. ],\n",
              "       [6.3, 2.7, 4.9, 1.8],\n",
              "       [6.7, 3.3, 5.7, 2.1],\n",
              "       [7.2, 3.2, 6. , 1.8],\n",
              "       [6.2, 2.8, 4.8, 1.8],\n",
              "       [6.1, 3. , 4.9, 1.8],\n",
              "       [6.4, 2.8, 5.6, 2.1],\n",
              "       [7.2, 3. , 5.8, 1.6],\n",
              "       [7.4, 2.8, 6.1, 1.9],\n",
              "       [7.9, 3.8, 6.4, 2. ],\n",
              "       [6.4, 2.8, 5.6, 2.2],\n",
              "       [6.3, 2.8, 5.1, 1.5],\n",
              "       [6.1, 2.6, 5.6, 1.4],\n",
              "       [7.7, 3. , 6.1, 2.3],\n",
              "       [6.3, 3.4, 5.6, 2.4],\n",
              "       [6.4, 3.1, 5.5, 1.8],\n",
              "       [6. , 3. , 4.8, 1.8],\n",
              "       [6.9, 3.1, 5.4, 2.1],\n",
              "       [6.7, 3.1, 5.6, 2.4],\n",
              "       [6.9, 3.1, 5.1, 2.3],\n",
              "       [5.8, 2.7, 5.1, 1.9],\n",
              "       [6.8, 3.2, 5.9, 2.3],\n",
              "       [6.7, 3.3, 5.7, 2.5],\n",
              "       [6.7, 3. , 5.2, 2.3],\n",
              "       [6.3, 2.5, 5. , 1.9],\n",
              "       [6.5, 3. , 5.2, 2. ],\n",
              "       [6.2, 3.4, 5.4, 2.3],\n",
              "       [5.9, 3. , 5.1, 1.8]])"
            ]
          },
          "metadata": {
            "tags": []
          },
          "execution_count": 5
        }
      ]
    },
    {
      "cell_type": "code",
      "metadata": {
        "colab": {
          "base_uri": "https://localhost:8080/"
        },
        "id": "Xs7Iom1b2yMr",
        "outputId": "fd3dfbd8-e3a1-430e-8a3b-18aad104c923"
      },
      "source": [
        "iris.target"
      ],
      "execution_count": 6,
      "outputs": [
        {
          "output_type": "execute_result",
          "data": {
            "text/plain": [
              "array([0, 0, 0, 0, 0, 0, 0, 0, 0, 0, 0, 0, 0, 0, 0, 0, 0, 0, 0, 0, 0, 0,\n",
              "       0, 0, 0, 0, 0, 0, 0, 0, 0, 0, 0, 0, 0, 0, 0, 0, 0, 0, 0, 0, 0, 0,\n",
              "       0, 0, 0, 0, 0, 0, 1, 1, 1, 1, 1, 1, 1, 1, 1, 1, 1, 1, 1, 1, 1, 1,\n",
              "       1, 1, 1, 1, 1, 1, 1, 1, 1, 1, 1, 1, 1, 1, 1, 1, 1, 1, 1, 1, 1, 1,\n",
              "       1, 1, 1, 1, 1, 1, 1, 1, 1, 1, 1, 1, 2, 2, 2, 2, 2, 2, 2, 2, 2, 2,\n",
              "       2, 2, 2, 2, 2, 2, 2, 2, 2, 2, 2, 2, 2, 2, 2, 2, 2, 2, 2, 2, 2, 2,\n",
              "       2, 2, 2, 2, 2, 2, 2, 2, 2, 2, 2, 2, 2, 2, 2, 2, 2, 2])"
            ]
          },
          "metadata": {
            "tags": []
          },
          "execution_count": 6
        }
      ]
    },
    {
      "cell_type": "code",
      "metadata": {
        "colab": {
          "base_uri": "https://localhost:8080/",
          "height": 204
        },
        "id": "f9uAKI5h24CH",
        "outputId": "ac08deab-91c4-457a-cfbb-912a02022cb3"
      },
      "source": [
        "import pandas as pd\r\n",
        "dataset = pd.read_csv(\"https://gist.githubusercontent.com/netj/8836201/raw/6f9306ad21398ea43cba4f7d537619d0e07d5ae3/iris.csv\")\r\n",
        "dataset.sample(n=5)"
      ],
      "execution_count": 7,
      "outputs": [
        {
          "output_type": "execute_result",
          "data": {
            "text/html": [
              "<div>\n",
              "<style scoped>\n",
              "    .dataframe tbody tr th:only-of-type {\n",
              "        vertical-align: middle;\n",
              "    }\n",
              "\n",
              "    .dataframe tbody tr th {\n",
              "        vertical-align: top;\n",
              "    }\n",
              "\n",
              "    .dataframe thead th {\n",
              "        text-align: right;\n",
              "    }\n",
              "</style>\n",
              "<table border=\"1\" class=\"dataframe\">\n",
              "  <thead>\n",
              "    <tr style=\"text-align: right;\">\n",
              "      <th></th>\n",
              "      <th>sepal.length</th>\n",
              "      <th>sepal.width</th>\n",
              "      <th>petal.length</th>\n",
              "      <th>petal.width</th>\n",
              "      <th>variety</th>\n",
              "    </tr>\n",
              "  </thead>\n",
              "  <tbody>\n",
              "    <tr>\n",
              "      <th>137</th>\n",
              "      <td>6.4</td>\n",
              "      <td>3.1</td>\n",
              "      <td>5.5</td>\n",
              "      <td>1.8</td>\n",
              "      <td>Virginica</td>\n",
              "    </tr>\n",
              "    <tr>\n",
              "      <th>72</th>\n",
              "      <td>6.3</td>\n",
              "      <td>2.5</td>\n",
              "      <td>4.9</td>\n",
              "      <td>1.5</td>\n",
              "      <td>Versicolor</td>\n",
              "    </tr>\n",
              "    <tr>\n",
              "      <th>99</th>\n",
              "      <td>5.7</td>\n",
              "      <td>2.8</td>\n",
              "      <td>4.1</td>\n",
              "      <td>1.3</td>\n",
              "      <td>Versicolor</td>\n",
              "    </tr>\n",
              "    <tr>\n",
              "      <th>76</th>\n",
              "      <td>6.8</td>\n",
              "      <td>2.8</td>\n",
              "      <td>4.8</td>\n",
              "      <td>1.4</td>\n",
              "      <td>Versicolor</td>\n",
              "    </tr>\n",
              "    <tr>\n",
              "      <th>58</th>\n",
              "      <td>6.6</td>\n",
              "      <td>2.9</td>\n",
              "      <td>4.6</td>\n",
              "      <td>1.3</td>\n",
              "      <td>Versicolor</td>\n",
              "    </tr>\n",
              "  </tbody>\n",
              "</table>\n",
              "</div>"
            ],
            "text/plain": [
              "     sepal.length  sepal.width  petal.length  petal.width     variety\n",
              "137           6.4          3.1           5.5          1.8   Virginica\n",
              "72            6.3          2.5           4.9          1.5  Versicolor\n",
              "99            5.7          2.8           4.1          1.3  Versicolor\n",
              "76            6.8          2.8           4.8          1.4  Versicolor\n",
              "58            6.6          2.9           4.6          1.3  Versicolor"
            ]
          },
          "metadata": {
            "tags": []
          },
          "execution_count": 7
        }
      ]
    },
    {
      "cell_type": "markdown",
      "metadata": {
        "id": "nQwp_SuF5Lwg"
      },
      "source": [
        "DATAVIZ"
      ]
    },
    {
      "cell_type": "code",
      "metadata": {
        "colab": {
          "base_uri": "https://localhost:8080/",
          "height": 441
        },
        "id": "r_Wv1Lxd4R4_",
        "outputId": "8c18c05c-642d-419d-da09-b6e7dd4e4432"
      },
      "source": [
        "from matplotlib import pyplot as plt\r\n",
        "x_index = 0\r\n",
        "y_index = 1\r\n",
        "\r\n",
        "#color bar accordingly to the target \r\n",
        "formatter = plt.FuncFormatter(lambda i, *args: iris.target_names[int(i)])\r\n",
        "\r\n",
        "#setting up the chart\r\n",
        "plt.figure(figsize = (10, 6)) # chart size\r\n",
        "plt.scatter(iris.data[:, x_index], iris.data[:, y_index], c = iris.target) #chart type\r\n",
        "plt.colorbar(ticks = [0, 1, 2], format = formatter) #colors\r\n",
        "plt.xlabel(iris.feature_names[x_index]) # x axis (horizontal)\r\n",
        "plt.ylabel(iris.feature_names[y_index]) # y axis (vertical)\r\n",
        "\r\n",
        "#extracting insights\r\n",
        "plt.tight_layout()\r\n",
        "plt.show()"
      ],
      "execution_count": 8,
      "outputs": [
        {
          "output_type": "display_data",
          "data": {
            "image/png": "[encoded data removed]",
            "text/plain": [
              "<Figure size 720x432 with 2 Axes>"
            ]
          },
          "metadata": {
            "tags": [],
            "needs_background": "light"
          }
        }
      ]
    },
    {
      "cell_type": "markdown",
      "metadata": {
        "id": "jmY6ftSpGggE"
      },
      "source": [
        "CLASSIFICATION"
      ]
    },
    {
      "cell_type": "code",
      "metadata": {
        "colab": {
          "base_uri": "https://localhost:8080/"
        },
        "id": "np0DjO_R_w0J",
        "outputId": "495f29ef-e9a4-4d3e-9634-9e8bdbbdaf75"
      },
      "source": [
        "from sklearn.tree import DecisionTreeClassifier\r\n",
        "clf = DecisionTreeClassifier()\r\n",
        "clf.fit(iris.data, iris.target)"
      ],
      "execution_count": 9,
      "outputs": [
        {
          "output_type": "execute_result",
          "data": {
            "text/plain": [
              "DecisionTreeClassifier(ccp_alpha=0.0, class_weight=None, criterion='gini',\n",
              "                       max_depth=None, max_features=None, max_leaf_nodes=None,\n",
              "                       min_impurity_decrease=0.0, min_impurity_split=None,\n",
              "                       min_samples_leaf=1, min_samples_split=2,\n",
              "                       min_weight_fraction_leaf=0.0, presort='deprecated',\n",
              "                       random_state=None, splitter='best')"
            ]
          },
          "metadata": {
            "tags": []
          },
          "execution_count": 9
        }
      ]
    },
    {
      "cell_type": "code",
      "metadata": {
        "colab": {
          "base_uri": "https://localhost:8080/"
        },
        "id": "5r2qn11SGyFB",
        "outputId": "3e92cb87-96bc-4a1e-fc69-5b7cb700b176"
      },
      "source": [
        "clf.feature_importances_"
      ],
      "execution_count": 10,
      "outputs": [
        {
          "output_type": "execute_result",
          "data": {
            "text/plain": [
              "array([0.        , 0.01333333, 0.06405596, 0.92261071])"
            ]
          },
          "metadata": {
            "tags": []
          },
          "execution_count": 10
        }
      ]
    },
    {
      "cell_type": "code",
      "metadata": {
        "colab": {
          "base_uri": "https://localhost:8080/"
        },
        "id": "Cs6o8T3RGz7P",
        "outputId": "e40c709d-0518-40cc-e619-a9ac045eb784"
      },
      "source": [
        "iris.data[0]\r\n",
        "clf.predict([iris.data[0]])"
      ],
      "execution_count": 11,
      "outputs": [
        {
          "output_type": "execute_result",
          "data": {
            "text/plain": [
              "array([0])"
            ]
          },
          "metadata": {
            "tags": []
          },
          "execution_count": 11
        }
      ]
    },
    {
      "cell_type": "markdown",
      "metadata": {
        "id": "LELC4Q8cJOOy"
      },
      "source": [
        "METRICS"
      ]
    },
    {
      "cell_type": "code",
      "metadata": {
        "colab": {
          "base_uri": "https://localhost:8080/"
        },
        "id": "Stvb7QJaG-yZ",
        "outputId": "eb658d17-bf97-4503-b96e-9f9650e8d2ba"
      },
      "source": [
        "from sklearn import metrics \r\n",
        "pred = clf.predict(iris.data[120:])\r\n",
        "metrics.accuracy_score(iris.target[120:], pred)"
      ],
      "execution_count": 12,
      "outputs": [
        {
          "output_type": "execute_result",
          "data": {
            "text/plain": [
              "1.0"
            ]
          },
          "metadata": {
            "tags": []
          },
          "execution_count": 12
        }
      ]
    },
    {
      "cell_type": "code",
      "metadata": {
        "colab": {
          "base_uri": "https://localhost:8080/"
        },
        "id": "TXU9UpOSJqVh",
        "outputId": "c3a87bb5-efdc-40c9-cbf7-0c64bc30119f"
      },
      "source": [
        "#separating test and train data\r\n",
        "clf.fit(iris.data[:120], iris.target[:120])\r\n",
        "pred = clf.predict(iris.data[120:])\r\n",
        "metrics.accuracy_score(iris.target[120:], pred)"
      ],
      "execution_count": 13,
      "outputs": [
        {
          "output_type": "execute_result",
          "data": {
            "text/plain": [
              "0.7333333333333333"
            ]
          },
          "metadata": {
            "tags": []
          },
          "execution_count": 13
        }
      ]
    },
    {
      "cell_type": "code",
      "metadata": {
        "colab": {
          "base_uri": "https://localhost:8080/"
        },
        "id": "dgQLrB2wKEZU",
        "outputId": "972db693-c5ea-4656-bca6-e8f6851d7140"
      },
      "source": [
        "#problem: we have taken only the first data of our dataframe\r\n",
        "print(\"Real values: \", iris.target[120:])\r\n",
        "print(\"Predicted values: \",pred)"
      ],
      "execution_count": 17,
      "outputs": [
        {
          "output_type": "stream",
          "text": [
            "Real values:  [2 2 2 2 2 2 2 2 2 2 2 2 2 2 2 2 2 2 2 2 2 2 2 2 2 2 2 2 2 2]\n",
            "Predicted values:  [2 1 2 1 2 2 1 1 2 1 2 2 2 1 1 2 2 2 1 2 2 2 2 2 2 2 2 2 2 2]\n"
          ],
          "name": "stdout"
        }
      ]
    },
    {
      "cell_type": "code",
      "metadata": {
        "id": "DKnt412x5hKo"
      },
      "source": [
        "#average cross validation\r\n",
        "from sklearn.model_selection import cross_val_score\r\n",
        "score = cross_val_score(clf, iris.data, iris.target, cv=10)"
      ],
      "execution_count": 19,
      "outputs": []
    },
    {
      "cell_type": "code",
      "metadata": {
        "colab": {
          "base_uri": "https://localhost:8080/"
        },
        "id": "C6iU5_Ec7H2T",
        "outputId": "8b5637b2-904b-4927-e033-21e786dd0c0a"
      },
      "source": [
        "#checking the predictions\r\n",
        "import numpy as np\r\n",
        "np.mean(score)"
      ],
      "execution_count": 20,
      "outputs": [
        {
          "output_type": "execute_result",
          "data": {
            "text/plain": [
              "0.96"
            ]
          },
          "metadata": {
            "tags": []
          },
          "execution_count": 20
        }
      ]
    },
    {
      "cell_type": "markdown",
      "metadata": {
        "id": "O4tLwCwcBhcn"
      },
      "source": [
        "PERCEPTRON"
      ]
    },
    {
      "cell_type": "code",
      "metadata": {
        "id": "VXfaeitH7Q5N"
      },
      "source": [
        "import numpy as np\r\n",
        "from sklearn.datasets import load_iris\r\n",
        "from sklearn.linear_model import Perceptron\r\n",
        "\r\n",
        "#plot the graph in the same cell\r\n",
        "%matplotlib inline \r\n",
        "\r\n",
        "import matplotlib\r\n",
        "import matplotlib.pyplot as plt\r\n",
        "\r\n",
        "iris = load_iris()\r\n",
        "X = iris.data[:, (2, 3)] #collumns 2 - petal length, 3 - petal width\r\n",
        "y = (iris.target == 0).astype(np.int)"
      ],
      "execution_count": 24,
      "outputs": []
    },
    {
      "cell_type": "code",
      "metadata": {
        "id": "MncVvuW0CmTX"
      },
      "source": [
        "per_clf = Perceptron(max_iter=100, tol=-np.infty, random_state=42)\r\n",
        "per_clf.fit(X,y)\r\n",
        "\r\n",
        "y_pred = per_clf.predict([[2, 0.5]])"
      ],
      "execution_count": 25,
      "outputs": []
    },
    {
      "cell_type": "code",
      "metadata": {
        "colab": {
          "base_uri": "https://localhost:8080/",
          "height": 287
        },
        "id": "XThRGDNNDVcT",
        "outputId": "0638eba3-cc87-4421-bf0f-c7d0e4617656"
      },
      "source": [
        "#visualization\r\n",
        "a = -per_clf.coef_[0][0] / per_clf.coef_[0][1] \r\n",
        "b = -per_clf.intercept_ / per_clf.coef_[0][1]\r\n",
        "\r\n",
        "axes = [0, 5, 0, 2]\r\n",
        "\r\n",
        "x0, x1 = np.meshgrid(\r\n",
        "    np.linspace(axes[0], axes[1], 500).reshape(-1, 1),\r\n",
        "    np.linspace(axes[2], axes[3], 200).reshape(-1, 1),\r\n",
        ")\r\n",
        "X_new = np.c_[x0.ravel(), x1.ravel()]\r\n",
        "y_predict = per_clf.predict(X_new)\r\n",
        "zz = y_predict.reshape(x0.shape)\r\n",
        "\r\n",
        "plt.figure(figsize = (10, 4))\r\n",
        "plt.plot(X[y==0, 0], X[y==0, 1], \"bs\", label=\"Not Iris-Setosa\")\r\n",
        "plt.plot(X[y==1, 0], X[y==1, 1], \"yo\", label=\"Iris-Setosa\")\r\n",
        "\r\n",
        "plt.plot([axes[0], axes[1]], [a * axes[0] + b, a * axes[1] + b], \"k-\", linewidth = 3)\r\n",
        "from matplotlib.colors import ListedColormap\r\n",
        "custom_cmap = ListedColormap([\"#9898ff\", \"#fafab0\"])\r\n",
        "\r\n",
        "plt.contourf(x0, x1, zz, cmap = custom_cmap)\r\n",
        "plt.xlabel(\"Petal length\", fontsize = 14)\r\n",
        "plt.ylabel(\"Petal width\", fontsize = 14)\r\n",
        "plt.legend(loc=\"lower right\", fontsize = 14)\r\n",
        "plt.axis(axes)\r\n",
        "\r\n",
        "plt.show()"
      ],
      "execution_count": 30,
      "outputs": [
        {
          "output_type": "display_data",
          "data": {
            "image/png": "[encoded data removed]",
            "text/plain": [
              "<Figure size 720x288 with 1 Axes>"
            ]
          },
          "metadata": {
            "tags": [],
            "needs_background": "light"
          }
        }
      ]
    },
    {
      "cell_type": "code",
      "metadata": {
        "colab": {
          "base_uri": "https://localhost:8080/"
        },
        "id": "cyiC6OIaJ5Wb",
        "outputId": "8ea5575d-7f33-4d25-8747-cd8057234348"
      },
      "source": [
        "y_pred"
      ],
      "execution_count": 31,
      "outputs": [
        {
          "output_type": "execute_result",
          "data": {
            "text/plain": [
              "array([1])"
            ]
          },
          "metadata": {
            "tags": []
          },
          "execution_count": 31
        }
      ]
    },
    {
      "cell_type": "markdown",
      "metadata": {
        "id": "2LrCUaLSKkOO"
      },
      "source": [
        "NLP/CHATBOT"
      ]
    },
    {
      "cell_type": "markdown",
      "metadata": {
        "id": "3CfKim9ULMWQ"
      },
      "source": [
        "https://chatterbot.readthedocs.io/en/stable/"
      ]
    },
    {
      "cell_type": "code",
      "metadata": {
        "colab": {
          "base_uri": "https://localhost:8080/"
        },
        "id": "ygg14FeuKhzd",
        "outputId": "9ab64943-8d13-4ceb-b7d0-b83d2b7dbd46"
      },
      "source": [
        "!pip install chatterbot\r\n",
        "!pip install chatterbot_corpus"
      ],
      "execution_count": 32,
      "outputs": [
        {
          "output_type": "stream",
          "text": [
            "Collecting chatterbot\n",
            "\u001b[?25l  Downloading https://files.pythonhosted.org/packages/7c/21/85c2b114bd9dfabdd46ba58fc4519acdaed45d8c70898d40079e37a45e67/ChatterBot-1.0.8-py2.py3-none-any.whl (63kB)\n",
            "\r\u001b[K     |█████▏                          | 10kB 16.7MB/s eta 0:00:01\r\u001b[K     |██████████▎                     | 20kB 11.1MB/s eta 0:00:01\r\u001b[K     |███████████████▌                | 30kB 11.3MB/s eta 0:00:01\r\u001b[K     |████████████████████▋           | 40kB 11.4MB/s eta 0:00:01\r\u001b[K     |█████████████████████████▊      | 51kB 7.2MB/s eta 0:00:01\r\u001b[K     |███████████████████████████████ | 61kB 8.4MB/s eta 0:00:01\r\u001b[K     |████████████████████████████████| 71kB 5.0MB/s \n",
            "\u001b[?25hCollecting mathparse<0.2,>=0.1\n",
            "  Downloading https://files.pythonhosted.org/packages/c3/e5/4910fb85950cb960fcf3f5aabe1c8e55f5c9201788a1c1302b570a7e1f84/mathparse-0.1.2-py3-none-any.whl\n",
            "Requirement already satisfied: pytz in /usr/local/lib/python3.6/dist-packages (from chatterbot) (2018.9)\n",
            "Requirement already satisfied: python-dateutil<2.9,>=2.8 in /usr/local/lib/python3.6/dist-packages (from chatterbot) (2.8.1)\n",
            "Requirement already satisfied: sqlalchemy<1.4,>=1.3 in /usr/local/lib/python3.6/dist-packages (from chatterbot) (1.3.20)\n",
            "Requirement already satisfied: six>=1.5 in /usr/local/lib/python3.6/dist-packages (from python-dateutil<2.9,>=2.8->chatterbot) (1.15.0)\n",
            "Installing collected packages: mathparse, chatterbot\n",
            "Successfully installed chatterbot-1.0.8 mathparse-0.1.2\n",
            "Collecting chatterbot_corpus\n",
            "\u001b[?25l  Downloading https://files.pythonhosted.org/packages/ed/19/f8b41daf36fe4b0f43e283a820362ffdb2c1128600ab4ee187e84262fa4d/chatterbot_corpus-1.2.0-py2.py3-none-any.whl (117kB)\n",
            "\u001b[K     |████████████████████████████████| 122kB 10.1MB/s \n",
            "\u001b[?25hRequirement already satisfied: PyYAML<4.0,>=3.12 in /usr/local/lib/python3.6/dist-packages (from chatterbot_corpus) (3.13)\n",
            "Installing collected packages: chatterbot-corpus\n",
            "Successfully installed chatterbot-corpus-1.2.0\n"
          ],
          "name": "stdout"
        }
      ]
    },
    {
      "cell_type": "code",
      "metadata": {
        "colab": {
          "base_uri": "https://localhost:8080/"
        },
        "id": "06KnNsJhc6Hv",
        "outputId": "4e1a9661-145b-45d9-d30d-75b9a1588c96"
      },
      "source": [
        "from chatterbot import ChatBot\r\n",
        "from chatterbot.trainers import ListTrainer\r\n",
        "from chatterbot.trainers import ChatterBotCorpusTrainer\r\n",
        "\r\n",
        "bot = ChatBot(\"Pybot\")\r\n",
        "bot = ChatBot(\r\n",
        "    \"Pybot\",\r\n",
        "    storage_adpater= \"chatterbot.storage.SQLStorageAdapter\",\r\n",
        "    database_uri=\"sqlite:///database.sqlite3\"\r\n",
        ")\r\n",
        "\r\n",
        "conversa = ListTrainer(bot)\r\n",
        "conversa.train([\r\n",
        "                \"Hello?\", \r\n",
        "                \"Hi\", \r\n",
        "                \"What's your name?\",\r\n",
        "                \"Pybot\", \r\n",
        "                \"Nice to meet you\", \r\n",
        "                \"Likewise\",\r\n",
        "                \"How are you?\",\r\n",
        "                \"Doing fine, you?\",\r\n",
        "                \"Gret!\",\r\n",
        "                \"Nice talking to you\", \r\n",
        "                \"hahahaha\", \r\n",
        "                \"See ya!\", \r\n",
        "                \"See you soon!\",\r\n",
        "\r\n",
        "])\r\n",
        "\r\n",
        "trainer = ChatterBotCorpusTrainer(bot)\r\n",
        "trainer.train(\"chatterbot.corpus.english\")"
      ],
      "execution_count": 2,
      "outputs": [
        {
          "output_type": "stream",
          "text": [
            "List Trainer: [####################] 100%\n",
            "Training ai.yml: [####################] 100%\n",
            "Training botprofile.yml: [####################] 100%\n",
            "Training computers.yml: [####################] 100%\n",
            "Training conversations.yml: [####################] 100%\n",
            "Training emotion.yml: [####################] 100%\n",
            "Training food.yml: [####################] 100%\n",
            "Training gossip.yml: [####################] 100%\n",
            "Training greetings.yml: [####################] 100%\n",
            "Training health.yml: [####################] 100%\n",
            "Training history.yml: [####################] 100%\n",
            "Training humor.yml: [####################] 100%\n",
            "Training literature.yml: [####################] 100%\n",
            "Training money.yml: [####################] 100%\n",
            "Training movies.yml: [####################] 100%\n",
            "Training politics.yml: [####################] 100%\n",
            "Training psychology.yml: [####################] 100%\n",
            "Training science.yml: [####################] 100%\n",
            "Training sports.yml: [####################] 100%\n",
            "Training trivia.yml: [####################] 100%\n"
          ],
          "name": "stdout"
        }
      ]
    },
    {
      "cell_type": "code",
      "metadata": {
        "colab": {
          "base_uri": "https://localhost:8080/"
        },
        "id": "nwG4f74xhCQh",
        "outputId": "f5f08abf-adbb-408f-8e2a-6034565946c6"
      },
      "source": [
        "while True:\r\n",
        "  resposta = bot.get_response(input(\"User: \"))\r\n",
        "  if float(resposta.confidence) > 0.5:\r\n",
        "    print(\"Pybot: \", resposta)\r\n",
        "  else:\r\n",
        "    print(\"Sorry, I didn't understand.\")\r\n",
        "    break"
      ],
      "execution_count": 4,
      "outputs": [
        {
          "output_type": "stream",
          "text": [
            "User: one\n",
            "Sorry, I didn't understand.\n"
          ],
          "name": "stdout"
        }
      ]
    },
    {
      "cell_type": "code",
      "metadata": {
        "id": "GJpro2DOkJih"
      },
      "source": [
        ""
      ],
      "execution_count": null,
      "outputs": []
    }
  ]
}